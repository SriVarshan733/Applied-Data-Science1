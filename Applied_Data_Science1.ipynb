{
  "nbformat": 4,
  "nbformat_minor": 0,
  "metadata": {
    "colab": {
      "provenance": [],
      "authorship_tag": "ABX9TyPJF/cfWv75eQEErnpwg6zZ",
      "include_colab_link": true
    },
    "kernelspec": {
      "name": "python3",
      "display_name": "Python 3"
    },
    "language_info": {
      "name": "python"
    }
  },
  "cells": [
    {
      "cell_type": "markdown",
      "metadata": {
        "id": "view-in-github",
        "colab_type": "text"
      },
      "source": [
        "<a href=\"https://colab.research.google.com/github/SriVarshan733/Applied-Data-Science1/blob/main/Applied_Data_Science1.ipynb\" target=\"_parent\"><img src=\"https://colab.research.google.com/assets/colab-badge.svg\" alt=\"Open In Colab\"/></a>"
      ]
    },
    {
      "cell_type": "markdown",
      "source": [
        "# **7PAM2000-0901-2024 - Applied Data Science 1**\n",
        "\n",
        "**NAME : SRIVARSHAN MEIPRAKASH**\n"
      ],
      "metadata": {
        "id": "oPCRkQYSy4OW"
      }
    },
    {
      "cell_type": "markdown",
      "source": [
        "**Importing the required libraries**"
      ],
      "metadata": {
        "id": "EVo7JlEYz9Yy"
      }
    },
    {
      "cell_type": "code",
      "execution_count": 10,
      "metadata": {
        "id": "dlRwyzFNyUay"
      },
      "outputs": [],
      "source": [
        "import pandas as pd  # for data handling\n",
        "import numpy as np   # for statistical calculations\n",
        "import matplotlib.pyplot as plt  # for plotting\n",
        "import seaborn as sns  # for advanced visualization"
      ]
    },
    {
      "cell_type": "markdown",
      "source": [
        "**LOADING THE DATASET**"
      ],
      "metadata": {
        "id": "t_QERdQB0JyR"
      }
    },
    {
      "cell_type": "code",
      "source": [
        "# Kaggle dataset link : https://www.kaggle.com/datasets/shrutikunapuli/coffee-and-code-dataset/data\n",
        "df = pd.read_csv('/content/CoffeeAndCodeLT2018 - CoffeeAndCodeLT2018.csv')"
      ],
      "metadata": {
        "id": "Hake_7_Dz_YH"
      },
      "execution_count": 11,
      "outputs": []
    },
    {
      "cell_type": "code",
      "source": [
        "# Displaying basic information about the dataset\n",
        "print(df.info())  # Check for any null values and data types of each column"
      ],
      "metadata": {
        "colab": {
          "base_uri": "https://localhost:8080/"
        },
        "id": "HxpxpzZL89Zh",
        "outputId": "fe16667f-83e5-41e4-c99b-c9def8eb9cd0"
      },
      "execution_count": 12,
      "outputs": [
        {
          "output_type": "stream",
          "name": "stdout",
          "text": [
            "<class 'pandas.core.frame.DataFrame'>\n",
            "RangeIndex: 100 entries, 0 to 99\n",
            "Data columns (total 9 columns):\n",
            " #   Column               Non-Null Count  Dtype \n",
            "---  ------               --------------  ----- \n",
            " 0   CodingHours          100 non-null    int64 \n",
            " 1   CoffeeCupsPerDay     100 non-null    int64 \n",
            " 2   CoffeeTime           100 non-null    object\n",
            " 3   CodingWithoutCoffee  100 non-null    object\n",
            " 4   CoffeeType           99 non-null     object\n",
            " 5   CoffeeSolveBugs      100 non-null    object\n",
            " 6   Gender               100 non-null    object\n",
            " 7   Country              100 non-null    object\n",
            " 8   AgeRange             98 non-null     object\n",
            "dtypes: int64(2), object(7)\n",
            "memory usage: 7.2+ KB\n",
            "None\n"
          ]
        }
      ]
    },
    {
      "cell_type": "code",
      "source": [
        "# Displaying the first few rows of the dataset for an overview\n",
        "print(df.head())"
      ],
      "metadata": {
        "colab": {
          "base_uri": "https://localhost:8080/"
        },
        "id": "P2d97k5C9Nfe",
        "outputId": "51583d10-3cbc-49cf-d04b-bbd6fb637342"
      },
      "execution_count": 13,
      "outputs": [
        {
          "output_type": "stream",
          "name": "stdout",
          "text": [
            "   CodingHours  CoffeeCupsPerDay     CoffeeTime CodingWithoutCoffee  \\\n",
            "0            8                 2  Before coding                 Yes   \n",
            "1            3                 2  Before coding                 Yes   \n",
            "2            5                 3   While coding                  No   \n",
            "3            8                 2  Before coding                  No   \n",
            "4           10                 3   While coding           Sometimes   \n",
            "\n",
            "    CoffeeType CoffeeSolveBugs  Gender  Country  AgeRange  \n",
            "0  Caffè latte       Sometimes  Female  Lebanon  18 to 29  \n",
            "1    Americano             Yes  Female  Lebanon  30 to 39  \n",
            "2      Nescafe             Yes  Female  Lebanon  18 to 29  \n",
            "3      Nescafe             Yes    Male  Lebanon       NaN  \n",
            "4      Turkish              No    Male  Lebanon  18 to 29  \n"
          ]
        }
      ]
    },
    {
      "cell_type": "code",
      "source": [
        "# Descriptive Statistics\n",
        "# Using describe() to get an initial summary of numerical data\n",
        "print(\"Summary of Dataset:\")\n",
        "print(df.describe())"
      ],
      "metadata": {
        "colab": {
          "base_uri": "https://localhost:8080/"
        },
        "id": "8QaiEiWv9ai2",
        "outputId": "1bcc676c-f00d-4e6d-a89d-9ec917f26a46"
      },
      "execution_count": 14,
      "outputs": [
        {
          "output_type": "stream",
          "name": "stdout",
          "text": [
            "Summary of Dataset:\n",
            "       CodingHours  CoffeeCupsPerDay\n",
            "count   100.000000        100.000000\n",
            "mean      6.410000          2.890000\n",
            "std       2.644205          1.613673\n",
            "min       1.000000          1.000000\n",
            "25%       4.000000          2.000000\n",
            "50%       7.000000          2.500000\n",
            "75%       8.000000          4.000000\n",
            "max      10.000000          8.000000\n"
          ]
        }
      ]
    }
  ]
}