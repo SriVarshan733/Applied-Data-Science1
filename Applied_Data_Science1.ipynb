{
  "nbformat": 4,
  "nbformat_minor": 0,
  "metadata": {
    "colab": {
      "provenance": [],
      "authorship_tag": "ABX9TyMTVklpl3VXxTro84GhF1r0",
      "include_colab_link": true
    },
    "kernelspec": {
      "name": "python3",
      "display_name": "Python 3"
    },
    "language_info": {
      "name": "python"
    }
  },
  "cells": [
    {
      "cell_type": "markdown",
      "metadata": {
        "id": "view-in-github",
        "colab_type": "text"
      },
      "source": [
        "<a href=\"https://colab.research.google.com/github/SriVarshan733/Applied-Data-Science1/blob/main/Applied_Data_Science1.ipynb\" target=\"_parent\"><img src=\"https://colab.research.google.com/assets/colab-badge.svg\" alt=\"Open In Colab\"/></a>"
      ]
    },
    {
      "cell_type": "markdown",
      "source": [
        "# **7PAM2000-0901-2024 - Applied Data Science 1**\n",
        "\n",
        "**NAME : SRIVARSHAN MEIPRAKASH**\n"
      ],
      "metadata": {
        "id": "oPCRkQYSy4OW"
      }
    },
    {
      "cell_type": "markdown",
      "source": [
        "**Importing the required libraries**"
      ],
      "metadata": {
        "id": "EVo7JlEYz9Yy"
      }
    },
    {
      "cell_type": "code",
      "execution_count": 10,
      "metadata": {
        "id": "dlRwyzFNyUay"
      },
      "outputs": [],
      "source": [
        "import pandas as pd  # for data handling\n",
        "import numpy as np   # for statistical calculations\n",
        "import matplotlib.pyplot as plt  # for plotting\n",
        "import seaborn as sns  # for advanced visualization"
      ]
    },
    {
      "cell_type": "markdown",
      "source": [
        "**LOADING THE DATASET**"
      ],
      "metadata": {
        "id": "t_QERdQB0JyR"
      }
    },
    {
      "cell_type": "code",
      "source": [
        "# Kaggle dataset link : https://www.kaggle.com/datasets/shrutikunapuli/coffee-and-code-dataset/data\n",
        "df = pd.read_csv('/content/CoffeeAndCodeLT2018 - CoffeeAndCodeLT2018.csv')"
      ],
      "metadata": {
        "id": "Hake_7_Dz_YH"
      },
      "execution_count": 11,
      "outputs": []
    },
    {
      "cell_type": "code",
      "source": [
        "# Displaying basic information about the dataset\n",
        "print(df.info())  # Check for any null values and data types of each column"
      ],
      "metadata": {
        "colab": {
          "base_uri": "https://localhost:8080/"
        },
        "id": "HxpxpzZL89Zh",
        "outputId": "fe16667f-83e5-41e4-c99b-c9def8eb9cd0"
      },
      "execution_count": 12,
      "outputs": [
        {
          "output_type": "stream",
          "name": "stdout",
          "text": [
            "<class 'pandas.core.frame.DataFrame'>\n",
            "RangeIndex: 100 entries, 0 to 99\n",
            "Data columns (total 9 columns):\n",
            " #   Column               Non-Null Count  Dtype \n",
            "---  ------               --------------  ----- \n",
            " 0   CodingHours          100 non-null    int64 \n",
            " 1   CoffeeCupsPerDay     100 non-null    int64 \n",
            " 2   CoffeeTime           100 non-null    object\n",
            " 3   CodingWithoutCoffee  100 non-null    object\n",
            " 4   CoffeeType           99 non-null     object\n",
            " 5   CoffeeSolveBugs      100 non-null    object\n",
            " 6   Gender               100 non-null    object\n",
            " 7   Country              100 non-null    object\n",
            " 8   AgeRange             98 non-null     object\n",
            "dtypes: int64(2), object(7)\n",
            "memory usage: 7.2+ KB\n",
            "None\n"
          ]
        }
      ]
    },
    {
      "cell_type": "code",
      "source": [
        "# Displaying the first few rows of the dataset for an overview\n",
        "print(df.head())"
      ],
      "metadata": {
        "colab": {
          "base_uri": "https://localhost:8080/"
        },
        "id": "P2d97k5C9Nfe",
        "outputId": "51583d10-3cbc-49cf-d04b-bbd6fb637342"
      },
      "execution_count": 13,
      "outputs": [
        {
          "output_type": "stream",
          "name": "stdout",
          "text": [
            "   CodingHours  CoffeeCupsPerDay     CoffeeTime CodingWithoutCoffee  \\\n",
            "0            8                 2  Before coding                 Yes   \n",
            "1            3                 2  Before coding                 Yes   \n",
            "2            5                 3   While coding                  No   \n",
            "3            8                 2  Before coding                  No   \n",
            "4           10                 3   While coding           Sometimes   \n",
            "\n",
            "    CoffeeType CoffeeSolveBugs  Gender  Country  AgeRange  \n",
            "0  Caffè latte       Sometimes  Female  Lebanon  18 to 29  \n",
            "1    Americano             Yes  Female  Lebanon  30 to 39  \n",
            "2      Nescafe             Yes  Female  Lebanon  18 to 29  \n",
            "3      Nescafe             Yes    Male  Lebanon       NaN  \n",
            "4      Turkish              No    Male  Lebanon  18 to 29  \n"
          ]
        }
      ]
    },
    {
      "cell_type": "code",
      "source": [
        "# Descriptive Statistics\n",
        "# Using describe() to get an initial summary of numerical data\n",
        "print(\"Summary of Dataset:\")\n",
        "print(df.describe())"
      ],
      "metadata": {
        "colab": {
          "base_uri": "https://localhost:8080/"
        },
        "id": "8QaiEiWv9ai2",
        "outputId": "1bcc676c-f00d-4e6d-a89d-9ec917f26a46"
      },
      "execution_count": 14,
      "outputs": [
        {
          "output_type": "stream",
          "name": "stdout",
          "text": [
            "Summary of Dataset:\n",
            "       CodingHours  CoffeeCupsPerDay\n",
            "count   100.000000        100.000000\n",
            "mean      6.410000          2.890000\n",
            "std       2.644205          1.613673\n",
            "min       1.000000          1.000000\n",
            "25%       4.000000          2.000000\n",
            "50%       7.000000          2.500000\n",
            "75%       8.000000          4.000000\n",
            "max      10.000000          8.000000\n"
          ]
        }
      ]
    },
    {
      "cell_type": "code",
      "source": [
        "# Convert 'CoffeeTime' to categorical codes\n",
        "df['CoffeeTime'] = pd.Categorical(df['CoffeeTime']).codes\n",
        "\n",
        "# Now include 'CoffeeTime' in the analysis\n",
        "columns_to_analyze = ['CodingHours', 'CoffeeCupsPerDay', 'CoffeeTime']\n",
        "\n",
        "for column in columns_to_analyze:\n",
        "    mean_val = df[column].mean()\n",
        "    median_val = df[column].median()\n",
        "    std_dev_val = df[column].std()\n",
        "\n",
        "    print(f\"\\n{column} Statistics:\")\n",
        "    print(f\"Mean: {mean_val}\")\n",
        "    print(f\"Median: {median_val}\")\n",
        "    print(f\"Standard Deviation: {std_dev_val}\")\n",
        "\n"
      ],
      "metadata": {
        "colab": {
          "base_uri": "https://localhost:8080/"
        },
        "id": "ztqhFpzD9pDh",
        "outputId": "f45d3551-2e2c-4198-e6af-4935c29ac9a5"
      },
      "execution_count": 21,
      "outputs": [
        {
          "output_type": "stream",
          "name": "stdout",
          "text": [
            "\n",
            "CodingHours Statistics:\n",
            "Mean: 6.41\n",
            "Median: 7.0\n",
            "Standard Deviation: 2.644204640684639\n",
            "\n",
            "CoffeeCupsPerDay Statistics:\n",
            "Mean: 2.89\n",
            "Median: 2.5\n",
            "Standard Deviation: 1.6136726415042786\n",
            "\n",
            "CoffeeTime Statistics:\n",
            "Mean: 4.7\n",
            "Median: 6.0\n",
            "Standard Deviation: 1.7552230857666158\n"
          ]
        }
      ]
    },
    {
      "cell_type": "code",
      "source": [
        "# Display correlation matrix for numeric columns only\n",
        "numeric_df = df.select_dtypes(include=['float64', 'int64'])\n",
        "print(\"\\nCorrelation Matrix:\")\n",
        "print(numeric_df.corr())"
      ],
      "metadata": {
        "colab": {
          "base_uri": "https://localhost:8080/"
        },
        "id": "8WYNOMD59yrr",
        "outputId": "fac94fc5-8796-4481-d42d-2a1fd984c4f9"
      },
      "execution_count": 24,
      "outputs": [
        {
          "output_type": "stream",
          "name": "stdout",
          "text": [
            "\n",
            "Correlation Matrix:\n",
            "                  CodingHours  CoffeeCupsPerDay\n",
            "CodingHours          1.000000          0.313692\n",
            "CoffeeCupsPerDay     0.313692          1.000000\n"
          ]
        }
      ]
    },
    {
      "cell_type": "code",
      "source": [
        "# Plot 1: Histogram of Coffee Cups per Day\n",
        "plt.figure(figsize=(8, 5))\n",
        "plt.hist(df['CoffeeCupsPerDay'], bins=10, color='#6F4E37', edgecolor='black')\n",
        "plt.title('Distribution of Coffee Cups per Day')\n",
        "plt.xlabel('Coffee Cups per Day')\n",
        "plt.ylabel('Frequency')\n",
        "plt.show()"
      ],
      "metadata": {
        "colab": {
          "base_uri": "https://localhost:8080/",
          "height": 487
        },
        "id": "ZsoUFp2C_nUP",
        "outputId": "67e72a9a-4590-4931-e0d2-56fe6310e939"
      },
      "execution_count": 26,
      "outputs": [
        {
          "output_type": "display_data",
          "data": {
            "text/plain": [
              "<Figure size 800x500 with 1 Axes>"
            ],
            "image/png": "[encoded data removed]"
          },
          "metadata": {}
        }
      ]
    },
    {
      "cell_type": "code",
      "source": [
        "# Plot 2: Scatter Plot for Coding Hours vs. Coffee Cups per Day\n",
        "plt.figure(figsize=(8, 5))\n",
        "plt.scatter(df['CodingHours'], df['CoffeeCupsPerDay'], color='darkcyan')\n",
        "plt.title('Coding Hours vs. Coffee Cups per Day')\n",
        "plt.xlabel('Coding Hours')\n",
        "plt.ylabel('Coffee Cups per Day')\n",
        "plt.grid(True)\n",
        "plt.show()"
      ],
      "metadata": {
        "colab": {
          "base_uri": "https://localhost:8080/",
          "height": 487
        },
        "id": "PY3coUaw_7oI",
        "outputId": "9489b852-87d8-4d57-9016-8692636aa5ae"
      },
      "execution_count": 29,
      "outputs": [
        {
          "output_type": "display_data",
          "data": {
            "text/plain": [
              "<Figure size 800x500 with 1 Axes>"
            ],
            "image/png": "[encoded data removed]"
          },
          "metadata": {}
        }
      ]
    }
  ]
}