{
  "nbformat": 4,
  "nbformat_minor": 0,
  "metadata": {
    "colab": {
      "provenance": [],
      "authorship_tag": "ABX9TyOriFXc385oFLb++jdClZrv",
      "include_colab_link": true
    },
    "kernelspec": {
      "name": "python3",
      "display_name": "Python 3"
    },
    "language_info": {
      "name": "python"
    }
  },
  "cells": [
    {
      "cell_type": "markdown",
      "metadata": {
        "id": "view-in-github",
        "colab_type": "text"
      },
      "source": [
        "<a href=\"https://colab.research.google.com/github/SriVarshan733/Applied-Data-Science1/blob/main/Applied_Data_Science1.ipynb\" target=\"_parent\"><img src=\"https://colab.research.google.com/assets/colab-badge.svg\" alt=\"Open In Colab\"/></a>"
      ]
    },
    {
      "cell_type": "markdown",
      "source": [
        "# **7PAM2000-0901-2024 - Applied Data Science 1**\n",
        "\n",
        "**NAME : SRIVARSHAN MEIPRAKASH**\n"
      ],
      "metadata": {
        "id": "oPCRkQYSy4OW"
      }
    },
    {
      "cell_type": "markdown",
      "source": [
        "**Importing the required libraries**"
      ],
      "metadata": {
        "id": "EVo7JlEYz9Yy"
      }
    },
    {
      "cell_type": "code",
      "execution_count": 1,
      "metadata": {
        "id": "dlRwyzFNyUay"
      },
      "outputs": [],
      "source": [
        "import seaborn as sns # seaborn for data visualization\n",
        "import pandas as pd # pandas for table data handling\n",
        "import matplotlib.pyplot as plt # matplotlib for data visualization"
      ]
    },
    {
      "cell_type": "code",
      "source": [],
      "metadata": {
        "id": "Hake_7_Dz_YH"
      },
      "execution_count": null,
      "outputs": []
    }
  ]
}